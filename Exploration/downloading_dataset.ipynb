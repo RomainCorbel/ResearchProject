{
 "cells": [
  {
   "cell_type": "code",
   "execution_count": 1,
   "id": "c1256bad",
   "metadata": {
    "execution": {
     "iopub.execute_input": "2025-09-22T09:48:03.957094Z",
     "iopub.status.busy": "2025-09-22T09:48:03.956800Z",
     "iopub.status.idle": "2025-09-22T09:56:46.585495Z",
     "shell.execute_reply": "2025-09-22T09:56:46.584630Z",
     "shell.execute_reply.started": "2025-09-22T09:48:03.957067Z"
    }
   },
   "outputs": [
    {
     "name": "stderr",
     "output_type": "stream",
     "text": [
      "Downloading AirfRANS: 9.34GB [05:59, 27.9MB/s]                               \n"
     ]
    },
    {
     "name": "stdout",
     "output_type": "stream",
     "text": [
      "Extracting Dataset.zip at /home/CVLab_Project/Dataset...\n"
     ]
    }
   ],
   "source": [
    "import airfrans as af\n",
    "import os\n",
    "\n",
    "# Go up two levels from the current folder (Exploration → ResearchProject → CVLab_Project)\n",
    "project_root = os.path.dirname(os.path.dirname(os.getcwd()))\n",
    "\n",
    "# Save inside CVLab_Project/Dataset\n",
    "PATH_TO_SAVING_DIRECTORY = os.path.join(project_root, 'Dataset')\n",
    "\n",
    "af.dataset.download(root = PATH_TO_SAVING_DIRECTORY, file_name = 'Dataset', unzip = True, OpenFOAM = False)"
   ]
  }
 ],
 "metadata": {
  "kernelspec": {
   "display_name": "airfrans_baseline",
   "language": "python",
   "name": "python3"
  },
  "language_info": {
   "codemirror_mode": {
    "name": "ipython",
    "version": 3
   },
   "file_extension": ".py",
   "mimetype": "text/x-python",
   "name": "python",
   "nbconvert_exporter": "python",
   "pygments_lexer": "ipython3",
   "version": "3.9.23"
  }
 },
 "nbformat": 4,
 "nbformat_minor": 5
}
