{
 "cells": [
  {
   "cell_type": "code",
   "execution_count": null,
   "id": "c1256bad",
   "metadata": {
    "execution": {
     "iopub.execute_input": "2025-09-22T09:48:03.957094Z",
     "iopub.status.busy": "2025-09-22T09:48:03.956800Z",
     "iopub.status.idle": "2025-09-22T09:56:46.585495Z",
     "shell.execute_reply": "2025-09-22T09:56:46.584630Z",
     "shell.execute_reply.started": "2025-09-22T09:48:03.957067Z"
    }
   },
   "outputs": [
    {
     "name": "stderr",
     "output_type": "stream",
     "text": [
      "Downloading AirfRANS: 9.34GB [06:29, 25.8MB/s]                              \n"
     ]
    },
    {
     "name": "stdout",
     "output_type": "stream",
     "text": [
      "Extracting Dataset.zip at c:\\Users\\romai\\OneDrive\\Bureau\\EPFL\\MA3\\Project\\AirfRANS...\n"
     ]
    },
    {
     "ename": "",
     "evalue": "",
     "output_type": "error",
     "traceback": [
      "\u001b[1;31mThe Kernel crashed while executing code in the current cell or a previous cell. \n",
      "\u001b[1;31mPlease review the code in the cell(s) to identify a possible cause of the failure. \n",
      "\u001b[1;31mClick <a href='https://aka.ms/vscodeJupyterKernelCrash'>here</a> for more info. \n",
      "\u001b[1;31mView Jupyter <a href='command:jupyter.viewOutput'>log</a> for further details."
     ]
    }
   ],
   "source": [
    "import airfrans as af\n",
    "import os\n",
    "\n",
    "# Go up two levels from the current folder (Exploration → ResearchProject → CVLab_Project)\n",
    "project_root = os.getcwd()\n",
    "\n",
    "# Save inside CVLab_Project/Dataset\n",
    "PATH_TO_SAVING_DIRECTORY = project_root\n",
    "\n",
    "af.dataset.download(root = PATH_TO_SAVING_DIRECTORY, file_name = 'Dataset', unzip = True, OpenFOAM = False)"
   ]
  }
 ],
 "metadata": {
  "kernelspec": {
   "display_name": "airfrans_baseline2",
   "language": "python",
   "name": "python3"
  },
  "language_info": {
   "codemirror_mode": {
    "name": "ipython",
    "version": 3
   },
   "file_extension": ".py",
   "mimetype": "text/x-python",
   "name": "python",
   "nbconvert_exporter": "python",
   "pygments_lexer": "ipython3",
   "version": "3.9.12"
  }
 },
 "nbformat": 4,
 "nbformat_minor": 5
}
