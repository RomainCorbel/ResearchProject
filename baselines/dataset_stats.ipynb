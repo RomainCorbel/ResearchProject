{
 "cells": [
  {
   "cell_type": "code",
   "execution_count": 1,
   "metadata": {},
   "outputs": [
    {
     "ename": "FileNotFoundError",
     "evalue": "[Errno 2] No such file or directory: 'c:\\\\Users\\\\romai\\\\OneDrive\\\\Bureau\\\\EPFL\\\\MA3\\\\Project\\\\AirfRANS\\\\manifest.json'",
     "output_type": "error",
     "traceback": [
      "\u001b[1;31m---------------------------------------------------------------------------\u001b[0m",
      "\u001b[1;31mFileNotFoundError\u001b[0m                         Traceback (most recent call last)",
      "Cell \u001b[1;32mIn[1], line 14\u001b[0m\n\u001b[0;32m     11\u001b[0m data_dir \u001b[38;5;241m=\u001b[39m os\u001b[38;5;241m.\u001b[39mgetcwd()\n\u001b[0;32m     13\u001b[0m \u001b[38;5;28;01mfor\u001b[39;00m c, s \u001b[38;5;129;01min\u001b[39;00m \u001b[38;5;28mzip\u001b[39m(colors, sets):\n\u001b[1;32m---> 14\u001b[0m     \u001b[38;5;28;01mwith\u001b[39;00m \u001b[38;5;28;43mopen\u001b[39;49m\u001b[43m(\u001b[49m\u001b[43mosp\u001b[49m\u001b[38;5;241;43m.\u001b[39;49m\u001b[43mjoin\u001b[49m\u001b[43m(\u001b[49m\u001b[43mdata_dir\u001b[49m\u001b[43m,\u001b[49m\u001b[43m \u001b[49m\u001b[38;5;124;43m'\u001b[39;49m\u001b[38;5;124;43mmanifest.json\u001b[39;49m\u001b[38;5;124;43m'\u001b[39;49m\u001b[43m)\u001b[49m\u001b[43m,\u001b[49m\u001b[43m \u001b[49m\u001b[38;5;124;43m'\u001b[39;49m\u001b[38;5;124;43mr\u001b[39;49m\u001b[38;5;124;43m'\u001b[39;49m\u001b[43m)\u001b[49m \u001b[38;5;28;01mas\u001b[39;00m f:\n\u001b[0;32m     15\u001b[0m         manifest \u001b[38;5;241m=\u001b[39m json\u001b[38;5;241m.\u001b[39mload(f)[s]\n\u001b[0;32m     17\u001b[0m     us \u001b[38;5;241m=\u001b[39m []\n",
      "File \u001b[1;32mc:\\Users\\romai\\anaconda3\\envs\\airfrans_baseline\\lib\\site-packages\\IPython\\core\\interactiveshell.py:310\u001b[0m, in \u001b[0;36m_modified_open\u001b[1;34m(file, *args, **kwargs)\u001b[0m\n\u001b[0;32m    303\u001b[0m \u001b[38;5;28;01mif\u001b[39;00m file \u001b[38;5;129;01min\u001b[39;00m {\u001b[38;5;241m0\u001b[39m, \u001b[38;5;241m1\u001b[39m, \u001b[38;5;241m2\u001b[39m}:\n\u001b[0;32m    304\u001b[0m     \u001b[38;5;28;01mraise\u001b[39;00m \u001b[38;5;167;01mValueError\u001b[39;00m(\n\u001b[0;32m    305\u001b[0m         \u001b[38;5;124mf\u001b[39m\u001b[38;5;124m\"\u001b[39m\u001b[38;5;124mIPython won\u001b[39m\u001b[38;5;124m'\u001b[39m\u001b[38;5;124mt let you open fd=\u001b[39m\u001b[38;5;132;01m{\u001b[39;00mfile\u001b[38;5;132;01m}\u001b[39;00m\u001b[38;5;124m by default \u001b[39m\u001b[38;5;124m\"\u001b[39m\n\u001b[0;32m    306\u001b[0m         \u001b[38;5;124m\"\u001b[39m\u001b[38;5;124mas it is likely to crash IPython. If you know what you are doing, \u001b[39m\u001b[38;5;124m\"\u001b[39m\n\u001b[0;32m    307\u001b[0m         \u001b[38;5;124m\"\u001b[39m\u001b[38;5;124myou can use builtins\u001b[39m\u001b[38;5;124m'\u001b[39m\u001b[38;5;124m open.\u001b[39m\u001b[38;5;124m\"\u001b[39m\n\u001b[0;32m    308\u001b[0m     )\n\u001b[1;32m--> 310\u001b[0m \u001b[38;5;28;01mreturn\u001b[39;00m io_open(file, \u001b[38;5;241m*\u001b[39margs, \u001b[38;5;241m*\u001b[39m\u001b[38;5;241m*\u001b[39mkwargs)\n",
      "\u001b[1;31mFileNotFoundError\u001b[0m: [Errno 2] No such file or directory: 'c:\\\\Users\\\\romai\\\\OneDrive\\\\Bureau\\\\EPFL\\\\MA3\\\\Project\\\\AirfRANS\\\\manifest.json'"
     ]
    }
   ],
   "source": [
    "import numpy as np\n",
    "import json\n",
    "import matplotlib.pyplot as plt\n",
    "import seaborn as sns\n",
    "import os.path as osp\n",
    "import os \n",
    "NU = 1.56e-5\n",
    "\n",
    "sets = ['full_train', 'scarce_train', 'reynolds_train', 'aoa_train', 'full_test', 'reynolds_test', 'aoa_test']\n",
    "colors = ['cornflowerblue']*4 + ['burlywood']*3\n",
    "data_dir = os.getcwd()\n",
    "\n",
    "for c, s in zip(colors, sets):\n",
    "    with open(osp.join(data_dir, 'manifest.json'), 'r') as f:\n",
    "        manifest = json.load(f)[s]\n",
    "\n",
    "    us = []\n",
    "    angles = []\n",
    "    digits4 = []\n",
    "    digits5 = []\n",
    "    for sim in manifest:\n",
    "        params = sim.split('_')\n",
    "        us.append(float(params[2])/NU)\n",
    "        angles.append(float(params[3]))\n",
    "\n",
    "        if len(params) == 7:\n",
    "            digits4.append(list(map(float, params[-3:])))\n",
    "        else:\n",
    "            digits5.append(list(map(float, params[-4:])))\n",
    "\n",
    "    digits4 = np.array(digits4)\n",
    "    digits5 = np.array(digits5)\n",
    "\n",
    "    sns.set()\n",
    "\n",
    "    fig, ax = plt.subplots(3, 3, figsize = (12, 12))\n",
    "    ax[2, 1].hist(us, bins = 20, color = c)\n",
    "    ax[2, 1].set_title('Reynolds number')\n",
    "\n",
    "    ax[2, 2].hist(angles, bins = 20, color = c)\n",
    "    ax[2, 2].set_xlabel('Degrees')\n",
    "    ax[2, 2].set_title('Angle of attack')\n",
    "\n",
    "    ax[0, 0].hist(digits4[:, 0], bins = 20, color = c)\n",
    "    ax[0, 0].set_title(r'$1^{st}$ digit')\n",
    "\n",
    "    ax[0, 1].hist(digits4[:, 1], bins = 20, color = c)\n",
    "    ax[0, 1].set_title(r'$2^{nd}$ digit')\n",
    "\n",
    "    ax[0, 2].hist(digits4[:, 2], bins = 20, color = c)\n",
    "    ax[0, 2].set_title(r'$3^{rd}$ and $4^{th}$ digits')\n",
    "\n",
    "    ax[1, 0].hist(digits5[:, 0], bins = 20, color = c)\n",
    "    ax[1, 0].set_title(r'$1^{st}$ digit')\n",
    "\n",
    "    ax[1, 1].hist(digits5[:, 1], bins = 20, color = c)\n",
    "    ax[1, 1].set_title(r'$2^{nd}$ digit')\n",
    "\n",
    "    ax[2, 0].hist(digits5[:, 2], bins = 2, color = c)\n",
    "    ax[2, 0].set_title(r'$3^{rd}$ digit')\n",
    "\n",
    "    ax[1, 2].hist(digits5[:, 3], bins = 20, color = c)\n",
    "    ax[1, 2].set_title(r'$4^{th}$ and $5^{th}$ digits');\n",
    "    fig.savefig(s, bbox_inches = 'tight', dpi = 150)"
   ]
  }
 ],
 "metadata": {
  "kernelspec": {
   "display_name": "airfrans_baseline",
   "language": "python",
   "name": "python3"
  },
  "language_info": {
   "codemirror_mode": {
    "name": "ipython",
    "version": 3
   },
   "file_extension": ".py",
   "mimetype": "text/x-python",
   "name": "python",
   "nbconvert_exporter": "python",
   "pygments_lexer": "ipython3",
   "version": "3.9.23"
  },
  "orig_nbformat": 4
 },
 "nbformat": 4,
 "nbformat_minor": 2
}
